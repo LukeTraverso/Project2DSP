{
 "cells": [
  {
   "cell_type": "code",
   "execution_count": null,
   "id": "0cd1324c-099b-448c-8524-c0ae1f1df90e",
   "metadata": {},
   "outputs": [],
   "source": [
    "import requests, bs4\n",
    "from bs4 import BeautifulSoup as bs\n",
    "import pandas as pd\n",
    "import re\n",
    "import numpy as np\n",
    "import seaborn as sns\n",
    "import matplotlib.pyplot as plt"
   ]
  },
  {
   "cell_type": "markdown",
   "id": "0aa46974-9034-4bc7-8f2f-39574a6017e4",
   "metadata": {},
   "source": [
    "## Retrieve the URL for it to be analyzed, then turn the scraped data into a dataframe\n",
    "#### "
   ]
  },
  {
   "cell_type": "code",
   "execution_count": null,
   "id": "55b27d2c-4444-4e5e-bc6e-e56340d00914",
   "metadata": {},
   "outputs": [],
   "source": [
    "#fbref url - https://fbref.com/en/comps/12/La-Liga-Stats\n",
    "#url = 'https://fbref.com/en/comps/12/La-Liga-Stats'\n",
    "#response = requests.get(url)\n",
    "#status = response.status_code\n",
    "#if status == 200:\n",
    "    #page = response.text\n",
    "    #soup = bs(page, 'html.parser')\n",
    "   # tables = pd.read_html(str(soup))  # Converts the soup object to string for read_html\n",
    "\n",
    "    # Choose the relevant table (usually the first one, but you can inspect 'tables' for other options)\n",
    "  #  la_liga_stats = tables[0]  # Assuming the first table contains the stats\n",
    " #   print(la_liga_stats.head())  # Display the first few rows to check if it's correct\n",
    "#else:\n",
    "    #print(f\"Oops! Received status code {status}\")"
   ]
  },
  {
   "cell_type": "code",
   "execution_count": 11,
   "id": "25afeccd-bd3f-4fbd-9512-419aaf9d57dd",
   "metadata": {},
   "outputs": [
    {
     "ename": "NameError",
     "evalue": "name 'requests' is not defined",
     "output_type": "error",
     "traceback": [
      "\u001b[0;31m---------------------------------------------------------------------------\u001b[0m",
      "\u001b[0;31mNameError\u001b[0m                                 Traceback (most recent call last)",
      "Cell \u001b[0;32mIn[11], line 3\u001b[0m\n\u001b[1;32m      1\u001b[0m \u001b[38;5;66;03m# URL of the page\u001b[39;00m\n\u001b[1;32m      2\u001b[0m url \u001b[38;5;241m=\u001b[39m \u001b[38;5;124m'\u001b[39m\u001b[38;5;124mhttps://fbref.com/en/comps/12/La-Liga-Stats\u001b[39m\u001b[38;5;124m'\u001b[39m\n\u001b[0;32m----> 3\u001b[0m response \u001b[38;5;241m=\u001b[39m requests\u001b[38;5;241m.\u001b[39mget(url)\n\u001b[1;32m      4\u001b[0m status \u001b[38;5;241m=\u001b[39m response\u001b[38;5;241m.\u001b[39mstatus_code\n\u001b[1;32m      6\u001b[0m \u001b[38;5;28;01mif\u001b[39;00m status \u001b[38;5;241m==\u001b[39m \u001b[38;5;241m200\u001b[39m:\n",
      "\u001b[0;31mNameError\u001b[0m: name 'requests' is not defined"
     ]
    }
   ],
   "source": [
    "# URL of the page\n",
    "url = 'https://fbref.com/en/comps/12/La-Liga-Stats'\n",
    "response = requests.get(url)\n",
    "status = response.status_code\n",
    "\n",
    "if status == 200:\n",
    "    page = response.text\n",
    "    soup = bs(page, 'html.parser')\n",
    "\n",
    "else:\n",
    "    print(f\"Oops! Received status code {status}\")\n",
    "# Define column headers\n",
    "#columns = [\n",
    " #       'Rk', 'Squad', 'MP', 'W', 'D', 'L', 'GF', 'GA', 'GD', 'Pts', \n",
    "  #      'Pts/MP', 'xG', 'xGA', 'xGD', 'xGD/90', 'Last 5', 'Attendance', \n",
    "   #     'Top Team Scorer', 'Goalkeeper'\n",
    "    #]\n",
    "def get_league(soup):\n",
    "    league_table = []\n",
    "# Extract each row's data\n",
    "    for row in rows:\n",
    "        rank = row.find('th').text.strip() if row.find('th') else 'N/A'\n",
    "        team = row.find(attrs={'data-stat':'team'}).text.strip()\n",
    "        matches_played = row.find(attrs={'data-stat': 'mp'}).text.strip()\n",
    "        wins = row.find(attrs={'data-stat': 'wins'}).text.strip()\n",
    "        draws = row.find(attrs={'data-stat': 'draws'}).text.strip()\n",
    "        losses = row.find(attrs={'data-stat': 'losses'}).text.strip()\n",
    "        goals_for = row.find(attrs={'data-stat': 'gf'}).text.strip()\n",
    "        goals_against = row.find(attrs={'data-stat': 'ga'}).text.strip()\n",
    "        goal_difference = row.find(attrs={'data-stat': 'gd'}).text.strip()\n",
    "        points = row.find(attrs={'data-stat': 'pts'}).text.strip()\n",
    "        points_per_match = row.find(attrs={'data-stat': 'pts_per_mp'}).text.strip()\n",
    "        expected_goals = row.find(attrs={'data-stat': 'xg'}).text.strip()\n",
    "        expected_goals_against = row.find(attrs={'data-stat': 'xga'}).text.strip()\n",
    "        expected_goal_difference = row.find(attrs={'data-stat': 'xgd'}).text.strip()\n",
    "        expected_goal_difference_per90 = row.find(attrs={'data-stat': 'xgd_per90'}).text.strip()\n",
    "        last_5_results = row.find(attrs={'data-stat':'last_5'}).text.strip()\n",
    "        attendance = row.find(attrs={'data-stat': 'attendance_per_g'}).text.replace(',', '').strip()\n",
    "        \n",
    "        league_table.append({'Rk':rank, 'Squad':team, 'MP':matches_played, 'W': wins, 'D': draws, 'L': losses, 'GF': goals_for, 'GA': goals_against,\n",
    "                     'GD': goal_diferrence, 'Pts': points, 'Pts/MP': points_per_match, 'xG': expected_goals, 'xGA': expected_goals_against, \n",
    "                     'xGD': expected_goal_difference, 'xGD/90': expected_goal_difference_per90, 'Last 5':last_5_results, 'Attendance': attendance} \n",
    "                     )\n",
    "        return(league_table)\n",
    "table_df = pd.DataFrame(get_league(soup))\n",
    "table_df\n"
   ]
  },
  {
   "cell_type": "code",
   "execution_count": null,
   "id": "cadaff12-1932-4c99-ac3a-39a885cd670e",
   "metadata": {},
   "outputs": [],
   "source": []
  }
 ],
 "metadata": {
  "kernelspec": {
   "display_name": "Python 3 (ipykernel)",
   "language": "python",
   "name": "python3"
  },
  "language_info": {
   "codemirror_mode": {
    "name": "ipython",
    "version": 3
   },
   "file_extension": ".py",
   "mimetype": "text/x-python",
   "name": "python",
   "nbconvert_exporter": "python",
   "pygments_lexer": "ipython3",
   "version": "3.12.2"
  }
 },
 "nbformat": 4,
 "nbformat_minor": 5
}
